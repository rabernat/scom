{
 "cells": [
  {
   "cell_type": "code",
   "execution_count": 1,
   "metadata": {
    "collapsed": false
   },
   "outputs": [],
   "source": [
    "import numpy as np\n",
    "from scipy import sparse\n",
    "import scipy.sparse.linalg as linalg\n",
    "from matplotlib import pyplot as plt\n",
    "%matplotlib inline"
   ]
  },
  {
   "cell_type": "markdown",
   "metadata": {},
   "source": [
    "$$ \\beta = \\frac{\\kappa \\Delta t}{(\\Delta x)^2} $$"
   ]
  },
  {
   "cell_type": "code",
   "execution_count": 2,
   "metadata": {
    "collapsed": true
   },
   "outputs": [],
   "source": []
  },
  {
   "cell_type": "markdown",
   "metadata": {},
   "source": [
    "Mark Speigelman's notes: http://www.ldeo.columbia.edu/~mspieg/mmm/Diffusion.pdf\n",
    "\n",
    "Forward time centered space \n",
    "\n",
    "$$ T^{n+1}_j = T^n_j + \\beta [1 \\ \\ -2  \\ \\ \\ 1 ] T^n_j  = [\\beta \\ \\ \\ (1-2\\beta)  \\ \\ \\ \\beta ] T^n_j$$\n",
    "\n",
    "Fully implicit\n",
    "\n",
    "$$ [ -\\beta \\ \\ \\ \\ (1 + 2 \\beta) \\ \\ -\\beta ] T^{n+1}_j = T^n_j $$\n",
    "\n",
    "Crank Nicholson\n",
    "\n",
    "$$ [ -\\beta \\ \\ \\ \\ 2(1 + \\beta) \\ \\ -\\beta ] T^{n+1}_j = [ \\beta \\ \\ \\ \\ 2(1 - \\beta) \\ \\ \\ \\beta ] T^n_j $$\n",
    "\n",
    "We define \n",
    "\n",
    "$$ C = [ -\\beta \\ \\ \\ \\ 2(1 + \\beta) \\ \\ -\\beta ] $$\n",
    "\n",
    "and \n",
    "\n",
    "$$ D = [ \\beta \\ \\ \\ \\ 2(1 - \\beta) \\ \\ \\ \\beta ] $$\n",
    "\n",
    "giving \n",
    "\n",
    "$$ C  T^{n+1}_j = D T^n_j  $$\n",
    "\n",
    "or \n",
    "\n",
    "$$ T^{n+1}_j = C^{-1} D T^n_j $$"
   ]
  },
  {
   "cell_type": "code",
   "execution_count": 269,
   "metadata": {
    "collapsed": false
   },
   "outputs": [],
   "source": [
    "n = 100\n",
    "\n",
    "dt = 1\n",
    "dx = 1\n",
    "\n",
    "# make kappa dependent on space\n",
    "# diffusivities and fluxes are defined at in-between points\n",
    "# endpoint values are never actually used, overwritten by b/c\n",
    "\n",
    "# linearly increasing\n",
    "#kappa = np.linspace(0.5, 0.1, n+1)\n",
    "# piecewise constant\n",
    "kappa = np.full(n+1, 0.1)\n",
    "kappa[3*n/4:] = 0.5\n",
    "\n",
    "# at the faces\n",
    "beta = kappa * dt / dx**2\n",
    "\n",
    "# create sparse matrices\n",
    "\n",
    "# implicit stencil\n",
    "C = (sparse.diags(-beta[1:-1], -1) +\n",
    "     sparse.diags(2 + beta[1:] + beta[:-1], 0) +\n",
    "     sparse.diags(-beta[1:-1], 1)).tolil()\n",
    "\n",
    "# forward stencil\n",
    "D = (sparse.diags(beta[1:-1], -1) +\n",
    "     sparse.diags(2 - beta[1:] - beta[:-1], 0) +\n",
    "     sparse.diags(beta[1:-1], 1)).tolil()\n",
    "\n",
    "# fill in boundary conditions\n",
    "#upper\n",
    "C[0,0] = 2 + beta[1]\n",
    "C[0,1] = -beta[1]\n",
    "D[0,0] = 2 - beta[1]\n",
    "D[0,1] = beta[1]\n",
    "#lower\n",
    "C[-1,-1] = 2 + beta[-2]\n",
    "C[-1,-2] = - beta[-2]\n",
    "D[-1,-1] = 2 - beta[-2]\n",
    "D[-1,-2] = beta[-2]\n",
    "\n",
    "# forcing vector\n",
    "# should be scaled by dt and dx\n",
    "f = np.zeros(n)\n",
    "f[-1] = 0.1\n",
    "\n",
    "C = C.tocsc()\n",
    "D = D.tocsc()\n",
    "\n",
    "A = linalg.inv(C).dot(D).tocsr()"
   ]
  },
  {
   "cell_type": "code",
   "execution_count": 275,
   "metadata": {
    "collapsed": false
   },
   "outputs": [
    {
     "data": {
      "image/png": "[encoded data removed]",
      "text/plain": [
       "<matplotlib.figure.Figure at 0x125d643d0>"
      ]
     },
     "metadata": {},
     "output_type": "display_data"
    }
   ],
   "source": [
    "x = np.linspace(-10, 10, n)\n",
    "#g = np.exp(-(x-10)**2)\n",
    "g = np.zeros(n)\n",
    "\n",
    "gn = g.copy()\n",
    "for nt in range(1001):\n",
    "    gn = A.dot(gn) + f*np.cos(np.pi * nt / 200)\n",
    "    if nt%100 == 0:\n",
    "        plt.plot(x, g)\n",
    "        plt.plot(x, gn)\n",
    "        plt.legend([g.sum(), gn.sum()])\n"
   ]
  },
  {
   "cell_type": "code",
   "execution_count": 153,
   "metadata": {
    "collapsed": false
   },
   "outputs": [
    {
     "data": {
      "text/plain": [
       "[<matplotlib.lines.Line2D at 0x11d143d90>]"
      ]
     },
     "execution_count": 153,
     "metadata": {},
     "output_type": "execute_result"
    },
    {
     "data": {
      "image/png": "[encoded data removed]",
      "text/plain": [
       "<matplotlib.figure.Figure at 0x11cf3c390>"
      ]
     },
     "metadata": {},
     "output_type": "display_data"
    }
   ],
   "source": [
    "plt.plot((A - sparse.eye(n)).dot(fn))\n"
   ]
  },
  {
   "cell_type": "code",
   "execution_count": 154,
   "metadata": {
    "collapsed": false
   },
   "outputs": [
    {
     "data": {
      "text/plain": [
       "array([[ 1.9,  0.1,  0. ,  0. ,  0. ]])"
      ]
     },
     "execution_count": 154,
     "metadata": {},
     "output_type": "execute_result"
    }
   ],
   "source": [
    "D[0,:5].toarray()"
   ]
  },
  {
   "cell_type": "code",
   "execution_count": 155,
   "metadata": {
    "collapsed": false
   },
   "outputs": [
    {
     "data": {
      "text/plain": [
       "array([[ 2.1, -0.1,  0. ,  0. ,  0. ],\n",
       "       [-0.1,  2.2, -0.1,  0. ,  0. ],\n",
       "       [ 0. , -0.1,  2.2, -0.1,  0. ],\n",
       "       [ 0. ,  0. , -0.1,  2.2, -0.1],\n",
       "       [ 0. ,  0. ,  0. , -0.1,  2.2]])"
      ]
     },
     "execution_count": 155,
     "metadata": {},
     "output_type": "execute_result"
    }
   ],
   "source": [
    "C[:5,:5].toarray()"
   ]
  },
  {
   "cell_type": "code",
   "execution_count": 51,
   "metadata": {
    "collapsed": false
   },
   "outputs": [
    {
     "data": {
      "text/plain": [
       "8.7736465619822663"
      ]
     },
     "execution_count": 51,
     "metadata": {},
     "output_type": "execute_result"
    }
   ],
   "source": [
    "fn.sum()"
   ]
  },
  {
   "cell_type": "code",
   "execution_count": 52,
   "metadata": {
    "collapsed": false
   },
   "outputs": [
    {
     "data": {
      "text/plain": [
       "8.7736465619823036"
      ]
     },
     "execution_count": 52,
     "metadata": {},
     "output_type": "execute_result"
    }
   ],
   "source": [
    "f.sum()"
   ]
  },
  {
   "cell_type": "code",
   "execution_count": 59,
   "metadata": {
    "collapsed": false
   },
   "outputs": [],
   "source": [
    "C[2,3] = 10"
   ]
  },
  {
   "cell_type": "code",
   "execution_count": null,
   "metadata": {
    "collapsed": true
   },
   "outputs": [],
   "source": []
  }
 ],
 "metadata": {
  "kernelspec": {
   "display_name": "Python 2",
   "language": "python",
   "name": "python2"
  },
  "language_info": {
   "codemirror_mode": {
    "name": "ipython",
    "version": 2
   },
   "file_extension": ".py",
   "mimetype": "text/x-python",
   "name": "python",
   "nbconvert_exporter": "python",
   "pygments_lexer": "ipython2",
   "version": "2.7.11"
  }
 },
 "nbformat": 4,
 "nbformat_minor": 0
}
